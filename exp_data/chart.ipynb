{
 "cells": [
  {
   "cell_type": "code",
   "execution_count": 18,
   "metadata": {},
   "outputs": [],
   "source": [
    "import numpy as np\n",
    "import pandas as pd\n",
    "import matplotlib.pyplot as plt\n",
    "from pandas.plotting import register_matplotlib_converters\n",
    "register_matplotlib_converters()"
   ]
  },
  {
   "cell_type": "code",
   "execution_count": 19,
   "metadata": {},
   "outputs": [
    {
     "name": "stdout",
     "output_type": "stream",
     "text": [
      "(5, 4)\n",
      "<class 'pandas.core.frame.DataFrame'>\n",
      "RangeIndex: 5 entries, 0 to 4\n",
      "Data columns (total 4 columns):\n",
      " #   Column       Non-Null Count  Dtype  \n",
      "---  ------       --------------  -----  \n",
      " 0   bulkSize     5 non-null      int64  \n",
      " 1   time         5 non-null      float64\n",
      " 2   speed        5 non-null      float64\n",
      " 3   bulkSizeStr  5 non-null      object \n",
      "dtypes: float64(2), int64(1), object(1)\n",
      "memory usage: 288.0+ bytes\n",
      "None\n"
     ]
    },
    {
     "data": {
      "text/html": [
       "<div>\n",
       "<style scoped>\n",
       "    .dataframe tbody tr th:only-of-type {\n",
       "        vertical-align: middle;\n",
       "    }\n",
       "\n",
       "    .dataframe tbody tr th {\n",
       "        vertical-align: top;\n",
       "    }\n",
       "\n",
       "    .dataframe thead th {\n",
       "        text-align: right;\n",
       "    }\n",
       "</style>\n",
       "<table border=\"1\" class=\"dataframe\">\n",
       "  <thead>\n",
       "    <tr style=\"text-align: right;\">\n",
       "      <th></th>\n",
       "      <th>bulkSize</th>\n",
       "      <th>time</th>\n",
       "      <th>speed</th>\n",
       "      <th>bulkSizeStr</th>\n",
       "    </tr>\n",
       "  </thead>\n",
       "  <tbody>\n",
       "    <tr>\n",
       "      <th>0</th>\n",
       "      <td>100</td>\n",
       "      <td>269401.0</td>\n",
       "      <td>0.68</td>\n",
       "      <td>100</td>\n",
       "    </tr>\n",
       "    <tr>\n",
       "      <th>1</th>\n",
       "      <td>1000</td>\n",
       "      <td>85607.8</td>\n",
       "      <td>3.10</td>\n",
       "      <td>1000</td>\n",
       "    </tr>\n",
       "    <tr>\n",
       "      <th>2</th>\n",
       "      <td>10000</td>\n",
       "      <td>34807.1</td>\n",
       "      <td>6.40</td>\n",
       "      <td>10000</td>\n",
       "    </tr>\n",
       "    <tr>\n",
       "      <th>3</th>\n",
       "      <td>100000</td>\n",
       "      <td>13550.6</td>\n",
       "      <td>10.00</td>\n",
       "      <td>100000</td>\n",
       "    </tr>\n",
       "    <tr>\n",
       "      <th>4</th>\n",
       "      <td>1000000</td>\n",
       "      <td>12730.0</td>\n",
       "      <td>10.00</td>\n",
       "      <td>1000000</td>\n",
       "    </tr>\n",
       "  </tbody>\n",
       "</table>\n",
       "</div>"
      ],
      "text/plain": [
       "   bulkSize      time  speed bulkSizeStr\n",
       "0       100  269401.0   0.68         100\n",
       "1      1000   85607.8   3.10        1000\n",
       "2     10000   34807.1   6.40       10000\n",
       "3    100000   13550.6  10.00      100000\n",
       "4   1000000   12730.0  10.00     1000000"
      ]
     },
     "metadata": {},
     "output_type": "display_data"
    }
   ],
   "source": [
    "df_bulk_send_speed = pd.read_csv(\"bulk_sendTime.csv\", delimiter=',', skiprows=0, header=0)\n",
    "df_bulk_send_speed['bulkSizeStr'] = df_bulk_send_speed['bulkSize'].apply(str)\n",
    "print(df_bulk_send_speed.shape)\n",
    "print(df_bulk_send_speed.info())\n",
    "display(df_bulk_send_speed.head())"
   ]
  },
  {
   "cell_type": "code",
   "execution_count": 20,
   "metadata": {},
   "outputs": [
    {
     "data": {
      "image/png": "[encoded data removed]",
      "text/plain": [
       "<Figure size 432x288 with 1 Axes>"
      ]
     },
     "metadata": {
      "needs_background": "light"
     },
     "output_type": "display_data"
    }
   ],
   "source": [
    "bulk_size = df_bulk_send_speed['bulkSizeStr']\n",
    "sending_time = df_bulk_send_speed['time']\n",
    "plt.plot(bulk_size, sending_time, marker='o')\n",
    "plt.title('Communication Time vs. Bulk Size')\n",
    "plt.xlabel('Bulk Size')\n",
    "plt.ylabel('Sending Time (ms)')\n",
    "# plt.xlim(0,20000)\n",
    "# plt.ylim(10000,20000)\n",
    "plt.show()"
   ]
  },
  {
   "cell_type": "code",
   "execution_count": 21,
   "metadata": {},
   "outputs": [
    {
     "data": {
      "image/png": "[encoded data removed]",
      "text/plain": [
       "<Figure size 432x288 with 1 Axes>"
      ]
     },
     "metadata": {
      "needs_background": "light"
     },
     "output_type": "display_data"
    }
   ],
   "source": [
    "bulk_size = df_bulk_send_speed['bulkSizeStr']\n",
    "sending_time = df_bulk_send_speed['speed']\n",
    "plt.plot(bulk_size, sending_time, marker='o')\n",
    "plt.title('Network Speed vs. Bulk Size')\n",
    "plt.xlabel('Bulk Size')\n",
    "plt.ylabel('Network Speed (MB/s)')\n",
    "# plt.xlim(0,20000)\n",
    "# plt.ylim(10000,20000)\n",
    "plt.show()"
   ]
  },
  {
   "cell_type": "code",
   "execution_count": 22,
   "metadata": {},
   "outputs": [
    {
     "name": "stdout",
     "output_type": "stream",
     "text": [
      "(2050, 4)\n",
      "<class 'pandas.core.frame.DataFrame'>\n",
      "RangeIndex: 2050 entries, 0 to 2049\n",
      "Data columns (total 4 columns):\n",
      " #   Column                   Non-Null Count  Dtype\n",
      "---  ------                   --------------  -----\n",
      " 0   NodePercentage           2050 non-null   int64\n",
      " 1   NodeCount                2050 non-null   int64\n",
      " 2   ConnectedNode            2050 non-null   int64\n",
      " 3   ConnectedNodePercentage  2050 non-null   int64\n",
      "dtypes: int64(4)\n",
      "memory usage: 64.2 KB\n",
      "None\n"
     ]
    },
    {
     "data": {
      "text/html": [
       "<div>\n",
       "<style scoped>\n",
       "    .dataframe tbody tr th:only-of-type {\n",
       "        vertical-align: middle;\n",
       "    }\n",
       "\n",
       "    .dataframe tbody tr th {\n",
       "        vertical-align: top;\n",
       "    }\n",
       "\n",
       "    .dataframe thead th {\n",
       "        text-align: right;\n",
       "    }\n",
       "</style>\n",
       "<table border=\"1\" class=\"dataframe\">\n",
       "  <thead>\n",
       "    <tr style=\"text-align: right;\">\n",
       "      <th></th>\n",
       "      <th>NodePercentage</th>\n",
       "      <th>NodeCount</th>\n",
       "      <th>ConnectedNode</th>\n",
       "      <th>ConnectedNodePercentage</th>\n",
       "    </tr>\n",
       "  </thead>\n",
       "  <tbody>\n",
       "    <tr>\n",
       "      <th>0</th>\n",
       "      <td>10</td>\n",
       "      <td>307244</td>\n",
       "      <td>2074452</td>\n",
       "      <td>67</td>\n",
       "    </tr>\n",
       "    <tr>\n",
       "      <th>1</th>\n",
       "      <td>10</td>\n",
       "      <td>307244</td>\n",
       "      <td>2076904</td>\n",
       "      <td>67</td>\n",
       "    </tr>\n",
       "    <tr>\n",
       "      <th>2</th>\n",
       "      <td>10</td>\n",
       "      <td>307244</td>\n",
       "      <td>2075030</td>\n",
       "      <td>67</td>\n",
       "    </tr>\n",
       "    <tr>\n",
       "      <th>3</th>\n",
       "      <td>10</td>\n",
       "      <td>307244</td>\n",
       "      <td>2076903</td>\n",
       "      <td>67</td>\n",
       "    </tr>\n",
       "    <tr>\n",
       "      <th>4</th>\n",
       "      <td>10</td>\n",
       "      <td>307244</td>\n",
       "      <td>2075486</td>\n",
       "      <td>67</td>\n",
       "    </tr>\n",
       "  </tbody>\n",
       "</table>\n",
       "</div>"
      ],
      "text/plain": [
       "   NodePercentage  NodeCount  ConnectedNode  ConnectedNodePercentage\n",
       "0              10     307244        2074452                       67\n",
       "1              10     307244        2076904                       67\n",
       "2              10     307244        2075030                       67\n",
       "3              10     307244        2076903                       67\n",
       "4              10     307244        2075486                       67"
      ]
     },
     "metadata": {},
     "output_type": "display_data"
    }
   ],
   "source": [
    "df_soc_connect_nodes = pd.read_csv(\"reuslt_connect_node_orkut.csv\", delimiter=',', skiprows=0, header=0)\n",
    "# df_soc_connect_nodes['bulkSizeStr'] = df_soc_connect_nodes['bulkSize'].apply(str)\n",
    "print(df_soc_connect_nodes.shape)\n",
    "print(df_soc_connect_nodes.info())\n",
    "display(df_soc_connect_nodes.head())"
   ]
  },
  {
   "cell_type": "markdown",
   "metadata": {},
   "source": []
  },
  {
   "cell_type": "code",
   "execution_count": 23,
   "metadata": {},
   "outputs": [
    {
     "data": {
      "image/png": "[encoded data removed]",
      "text/plain": [
       "<Figure size 432x288 with 1 Axes>"
      ]
     },
     "metadata": {
      "needs_background": "light"
     },
     "output_type": "display_data"
    }
   ],
   "source": [
    "node_percentage = df_soc_connect_nodes['NodePercentage']\n",
    "connected_node_percentage = df_soc_connect_nodes['ConnectedNodePercentage']\n",
    "plt.plot(node_percentage, connected_node_percentage)\n",
    "plt.title('Connected Nodes Percentages (E / N = 30)')\n",
    "plt.ylabel('Connected Nodes Percentages')\n",
    "plt.xlabel('Nodes Percentages')\n",
    "# plt.xlim(0,20000)\n",
    "# plt.ylim(10000,20000)\n",
    "plt.show()"
   ]
  },
  {
   "cell_type": "code",
   "execution_count": 24,
   "metadata": {},
   "outputs": [
    {
     "name": "stdout",
     "output_type": "stream",
     "text": [
      "(2050, 4)\n",
      "<class 'pandas.core.frame.DataFrame'>\n",
      "RangeIndex: 2050 entries, 0 to 2049\n",
      "Data columns (total 4 columns):\n",
      " #   Column                   Non-Null Count  Dtype\n",
      "---  ------                   --------------  -----\n",
      " 0   NodePercentage           2050 non-null   int64\n",
      " 1   NodeCount                2050 non-null   int64\n",
      " 2   ConnectedNode            2050 non-null   int64\n",
      " 3   ConnectedNodePercentage  2050 non-null   int64\n",
      "dtypes: int64(4)\n",
      "memory usage: 64.2 KB\n",
      "None\n"
     ]
    },
    {
     "data": {
      "text/html": [
       "<div>\n",
       "<style scoped>\n",
       "    .dataframe tbody tr th:only-of-type {\n",
       "        vertical-align: middle;\n",
       "    }\n",
       "\n",
       "    .dataframe tbody tr th {\n",
       "        vertical-align: top;\n",
       "    }\n",
       "\n",
       "    .dataframe thead th {\n",
       "        text-align: right;\n",
       "    }\n",
       "</style>\n",
       "<table border=\"1\" class=\"dataframe\">\n",
       "  <thead>\n",
       "    <tr style=\"text-align: right;\">\n",
       "      <th></th>\n",
       "      <th>NodePercentage</th>\n",
       "      <th>NodeCount</th>\n",
       "      <th>ConnectedNode</th>\n",
       "      <th>ConnectedNodePercentage</th>\n",
       "    </tr>\n",
       "  </thead>\n",
       "  <tbody>\n",
       "    <tr>\n",
       "      <th>0</th>\n",
       "      <td>10</td>\n",
       "      <td>484757</td>\n",
       "      <td>2383546</td>\n",
       "      <td>49</td>\n",
       "    </tr>\n",
       "    <tr>\n",
       "      <th>1</th>\n",
       "      <td>10</td>\n",
       "      <td>484757</td>\n",
       "      <td>2374615</td>\n",
       "      <td>48</td>\n",
       "    </tr>\n",
       "    <tr>\n",
       "      <th>2</th>\n",
       "      <td>10</td>\n",
       "      <td>484757</td>\n",
       "      <td>2378876</td>\n",
       "      <td>49</td>\n",
       "    </tr>\n",
       "    <tr>\n",
       "      <th>3</th>\n",
       "      <td>10</td>\n",
       "      <td>484757</td>\n",
       "      <td>2387181</td>\n",
       "      <td>49</td>\n",
       "    </tr>\n",
       "    <tr>\n",
       "      <th>4</th>\n",
       "      <td>10</td>\n",
       "      <td>484757</td>\n",
       "      <td>2383479</td>\n",
       "      <td>49</td>\n",
       "    </tr>\n",
       "  </tbody>\n",
       "</table>\n",
       "</div>"
      ],
      "text/plain": [
       "   NodePercentage  NodeCount  ConnectedNode  ConnectedNodePercentage\n",
       "0              10     484757        2383546                       49\n",
       "1              10     484757        2374615                       48\n",
       "2              10     484757        2378876                       49\n",
       "3              10     484757        2387181                       49\n",
       "4              10     484757        2383479                       49"
      ]
     },
     "metadata": {},
     "output_type": "display_data"
    }
   ],
   "source": [
    "df_soc_connect_nodes = pd.read_csv(\"reuslt_connect_node_soc.csv\", delimiter=',', skiprows=0, header=0)\n",
    "# df_soc_connect_nodes['bulkSizeStr'] = df_soc_connect_nodes['bulkSize'].apply(str)\n",
    "print(df_soc_connect_nodes.shape)\n",
    "print(df_soc_connect_nodes.info())\n",
    "display(df_soc_connect_nodes.head())"
   ]
  },
  {
   "cell_type": "code",
   "execution_count": 25,
   "metadata": {},
   "outputs": [
    {
     "data": {
      "image/png": "[encoded data removed]",
      "text/plain": [
       "<Figure size 432x288 with 1 Axes>"
      ]
     },
     "metadata": {
      "needs_background": "light"
     },
     "output_type": "display_data"
    }
   ],
   "source": [
    "node_percentage = df_soc_connect_nodes['NodePercentage']\n",
    "connected_node_percentage = df_soc_connect_nodes['ConnectedNodePercentage']\n",
    "plt.plot(node_percentage, connected_node_percentage)\n",
    "plt.title('Connected Nodes Percentages (E / N = 15)')\n",
    "plt.ylabel('Connected Nodes Percentages')\n",
    "plt.xlabel('Nodes Percentages')\n",
    "# plt.xlim(0,20000)\n",
    "# plt.ylim(10000,20000)\n",
    "plt.show()"
   ]
  }
 ],
 "metadata": {
  "interpreter": {
   "hash": "a56d7313c7010e2993fb060a40a0c89503718a8c1aa7f683102c3457bfb6b975"
  },
  "kernelspec": {
   "display_name": "Python 3.9.7 64-bit ('ds21': conda)",
   "language": "python",
   "name": "python3"
  },
  "language_info": {
   "codemirror_mode": {
    "name": "ipython",
    "version": 3
   },
   "file_extension": ".py",
   "mimetype": "text/x-python",
   "name": "python",
   "nbconvert_exporter": "python",
   "pygments_lexer": "ipython3",
   "version": "3.9.7"
  },
  "orig_nbformat": 4
 },
 "nbformat": 4,
 "nbformat_minor": 2
}
